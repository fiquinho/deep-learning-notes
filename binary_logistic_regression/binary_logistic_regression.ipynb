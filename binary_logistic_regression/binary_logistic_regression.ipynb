{
 "cells": [
  {
   "cell_type": "code",
   "execution_count": 6,
   "metadata": {
    "collapsed": false
   },
   "outputs": [],
   "source": [
    "%matplotlib inline\n",
    "\n",
    "import numpy as np\n",
    "import matplotlib.pyplot as plt"
   ]
  },
  {
   "cell_type": "code",
   "execution_count": 20,
   "metadata": {
    "collapsed": true
   },
   "outputs": [],
   "source": [
    "# 200 samples of class 1\n",
    "class_1 = 20\n",
    "mean1, cov1, n1 = [1, 5], [[1,1],[1,2]], class_1\n",
    "\n",
    "# 300 samples of class 0\n",
    "class_2 = 30\n",
    "mean2, cov2, n2 = [2.5, 2.5], [[1,0],[0,1]], class_2"
   ]
  },
  {
   "cell_type": "code",
   "execution_count": 31,
   "metadata": {
    "collapsed": false
   },
   "outputs": [
    {
     "data": {
      "text/plain": [
       "[<matplotlib.lines.Line2D at 0x1d68925f470>,\n",
       " <matplotlib.lines.Line2D at 0x1d68925f5f8>]"
      ]
     },
     "execution_count": 31,
     "metadata": {},
     "output_type": "execute_result"
    },
    {
     "data": {
      "image/png": "[encoded data removed]",
      "text/plain": [
       "<matplotlib.figure.Figure at 0x1d6891dc048>"
      ]
     },
     "metadata": {},
     "output_type": "display_data"
    }
   ],
   "source": [
    "np.random.seed(0)\n",
    "\n",
    "x1 = np.random.multivariate_normal(mean1, cov1, n1).transpose()\n",
    "y1 = np.ones((1, class_1))\n",
    "x2 = np.random.multivariate_normal(mean2, cov2, n2).transpose()\n",
    "y2 = np.zeros((1, class_2))\n",
    "\n",
    "plt.plot(x1[0, :], x1[1, :], 'ob', x2[0, :], x2[1, :], 'or')"
   ]
  },
  {
   "cell_type": "code",
   "execution_count": 32,
   "metadata": {
    "collapsed": false
   },
   "outputs": [
    {
     "name": "stdout",
     "output_type": "stream",
     "text": [
      "[[-0.71096765 -1.01067153 -0.07485433  0.27137971  0.87193879  0.11291239\n",
      "   0.2886543   0.44700441 -0.16308149  1.18271341  2.82807522  0.65484589\n",
      "  -0.16616332  1.05948385 -1.0763475   0.66938205  2.79656199  1.21375423\n",
      "  -0.67867626  1.48840983]\n",
      " [ 2.7020092   4.38099307  2.11199012  3.64313654  5.2754801   5.27426314\n",
      "   3.99205604  4.49749203  2.87691662  4.29158675  8.72626258  3.56906161\n",
      "   1.40339872  4.87619908  3.36773401  4.90960562  5.57833247  5.52966085\n",
      "   3.69732705  5.43488551]]\n",
      "(2, 20)\n"
     ]
    }
   ],
   "source": [
    "print(x1)\n",
    "print(x1.shape)"
   ]
  },
  {
   "cell_type": "code",
   "execution_count": 37,
   "metadata": {
    "collapsed": false
   },
   "outputs": [
    {
     "name": "stdout",
     "output_type": "stream",
     "text": [
      "[[1.45144703 0.79372981 1.99034782 1.24720464 0.88610215 1.60453344\n",
      "  1.98919486 2.47181777 2.56651722 1.86567791 1.82753955 1.68685372\n",
      "  2.67742614 0.86980165 1.59270164 3.22909056 3.63940068 2.90234164\n",
      "  1.62920285 2.18844747 1.33485016 2.96566244 3.98825219 3.67877957\n",
      "  1.42924738 2.09682305 2.70827498 2.8563664  2.51050002 2.62691209]\n",
      " [1.07998206 4.4507754  2.0619257  3.27749036 2.28725972 2.8869025\n",
      "  1.31936782 2.92833187 2.8024719  2.13725883 2.14044684 0.7737174\n",
      "  2.09821906 2.96278226 2.5519454  2.62898291 1.26517418 1.81518991\n",
      "  1.92115034 2.55616534 3.40082649 0.96375631 4.39588918 2.32007516\n",
      "  3.55445173 3.72244507 3.47663904 3.20657317 4.28587049 2.90198936]]\n",
      "(2, 30)\n"
     ]
    }
   ],
   "source": [
    "print(x2)\n",
    "print(x2.shape)"
   ]
  },
  {
   "cell_type": "code",
   "execution_count": 33,
   "metadata": {
    "collapsed": false
   },
   "outputs": [
    {
     "data": {
      "text/plain": [
       "array([[1., 1., 1., 1., 1., 1., 1., 1., 1., 1., 1., 1., 1., 1., 1., 1.,\n",
       "        1., 1., 1., 1.]])"
      ]
     },
     "execution_count": 33,
     "metadata": {},
     "output_type": "execute_result"
    }
   ],
   "source": [
    "y1"
   ]
  },
  {
   "cell_type": "code",
   "execution_count": 34,
   "metadata": {
    "collapsed": false
   },
   "outputs": [
    {
     "data": {
      "text/plain": [
       "array([[0., 0., 0., 0., 0., 0., 0., 0., 0., 0., 0., 0., 0., 0., 0., 0.,\n",
       "        0., 0., 0., 0., 0., 0., 0., 0., 0., 0., 0., 0., 0., 0.]])"
      ]
     },
     "execution_count": 34,
     "metadata": {},
     "output_type": "execute_result"
    }
   ],
   "source": [
    "y2"
   ]
  },
  {
   "cell_type": "code",
   "execution_count": 39,
   "metadata": {
    "collapsed": false
   },
   "outputs": [
    {
     "data": {
      "text/plain": [
       "array([[-0.71096765, -1.01067153, -0.07485433,  0.27137971,  0.87193879,\n",
       "         0.11291239,  0.2886543 ,  0.44700441, -0.16308149,  1.18271341,\n",
       "         2.82807522,  0.65484589, -0.16616332,  1.05948385, -1.0763475 ,\n",
       "         0.66938205,  2.79656199,  1.21375423, -0.67867626,  1.48840983,\n",
       "         1.45144703,  0.79372981,  1.99034782,  1.24720464,  0.88610215,\n",
       "         1.60453344,  1.98919486,  2.47181777,  2.56651722,  1.86567791,\n",
       "         1.82753955,  1.68685372,  2.67742614,  0.86980165,  1.59270164,\n",
       "         3.22909056,  3.63940068,  2.90234164,  1.62920285,  2.18844747,\n",
       "         1.33485016,  2.96566244,  3.98825219,  3.67877957,  1.42924738,\n",
       "         2.09682305,  2.70827498,  2.8563664 ,  2.51050002,  2.62691209],\n",
       "       [ 2.7020092 ,  4.38099307,  2.11199012,  3.64313654,  5.2754801 ,\n",
       "         5.27426314,  3.99205604,  4.49749203,  2.87691662,  4.29158675,\n",
       "         8.72626258,  3.56906161,  1.40339872,  4.87619908,  3.36773401,\n",
       "         4.90960562,  5.57833247,  5.52966085,  3.69732705,  5.43488551,\n",
       "         1.07998206,  4.4507754 ,  2.0619257 ,  3.27749036,  2.28725972,\n",
       "         2.8869025 ,  1.31936782,  2.92833187,  2.8024719 ,  2.13725883,\n",
       "         2.14044684,  0.7737174 ,  2.09821906,  2.96278226,  2.5519454 ,\n",
       "         2.62898291,  1.26517418,  1.81518991,  1.92115034,  2.55616534,\n",
       "         3.40082649,  0.96375631,  4.39588918,  2.32007516,  3.55445173,\n",
       "         3.72244507,  3.47663904,  3.20657317,  4.28587049,  2.90198936]])"
      ]
     },
     "execution_count": 39,
     "metadata": {},
     "output_type": "execute_result"
    }
   ],
   "source": [
    "x = np.concatenate((x1, x2), axis=1)\n",
    "x"
   ]
  },
  {
   "cell_type": "code",
   "execution_count": 40,
   "metadata": {
    "collapsed": false
   },
   "outputs": [
    {
     "data": {
      "text/plain": [
       "array([[1., 1., 1., 1., 1., 1., 1., 1., 1., 1., 1., 1., 1., 1., 1., 1.,\n",
       "        1., 1., 1., 1., 0., 0., 0., 0., 0., 0., 0., 0., 0., 0., 0., 0.,\n",
       "        0., 0., 0., 0., 0., 0., 0., 0., 0., 0., 0., 0., 0., 0., 0., 0.,\n",
       "        0., 0.]])"
      ]
     },
     "execution_count": 40,
     "metadata": {},
     "output_type": "execute_result"
    }
   ],
   "source": [
    "y = np.concatenate((y1, y2), axis=1)\n",
    "y"
   ]
  },
  {
   "cell_type": "code",
   "execution_count": 47,
   "metadata": {
    "collapsed": false
   },
   "outputs": [
    {
     "data": {
      "text/plain": [
       "array([ 0,  1,  2,  3,  4,  5,  6,  7,  8,  9, 10, 11, 12, 13, 14, 15, 16,\n",
       "       17, 18, 19, 20, 21, 22, 23, 24, 25, 26, 27, 28, 29, 30, 31, 32, 33,\n",
       "       34, 35, 36, 37, 38, 39, 40, 41, 42, 43, 44, 45, 46, 47, 48, 49])"
      ]
     },
     "execution_count": 47,
     "metadata": {},
     "output_type": "execute_result"
    }
   ],
   "source": [
    "s = np.arange(x.shape[1])\n",
    "s"
   ]
  },
  {
   "cell_type": "code",
   "execution_count": 44,
   "metadata": {
    "collapsed": false
   },
   "outputs": [
    {
     "data": {
      "text/plain": [
       "array([1., 1.])"
      ]
     },
     "execution_count": 44,
     "metadata": {},
     "output_type": "execute_result"
    }
   ],
   "source": [
    "y"
   ]
  },
  {
   "cell_type": "code",
   "execution_count": null,
   "metadata": {
    "collapsed": true
   },
   "outputs": [],
   "source": []
  },
  {
   "cell_type": "code",
   "execution_count": null,
   "metadata": {
    "collapsed": true
   },
   "outputs": [],
   "source": []
  },
  {
   "cell_type": "code",
   "execution_count": null,
   "metadata": {
    "collapsed": true
   },
   "outputs": [],
   "source": []
  },
  {
   "cell_type": "code",
   "execution_count": null,
   "metadata": {
    "collapsed": true
   },
   "outputs": [],
   "source": []
  },
  {
   "cell_type": "code",
   "execution_count": null,
   "metadata": {
    "collapsed": true
   },
   "outputs": [],
   "source": []
  },
  {
   "cell_type": "code",
   "execution_count": null,
   "metadata": {
    "collapsed": true
   },
   "outputs": [],
   "source": []
  },
  {
   "cell_type": "code",
   "execution_count": null,
   "metadata": {
    "collapsed": true
   },
   "outputs": [],
   "source": []
  },
  {
   "cell_type": "code",
   "execution_count": null,
   "metadata": {
    "collapsed": true
   },
   "outputs": [],
   "source": []
  },
  {
   "cell_type": "code",
   "execution_count": null,
   "metadata": {
    "collapsed": true
   },
   "outputs": [],
   "source": [
    ">>> np.random.seed(0)\n",
    ">>> mean1, cov1, n1 = [1, 5], [[1,1],[1,2]], 200  # 200 samples of class 1\n",
    ">>> x1 = np.random.multivariate_normal(mean1, cov1, n1)\n",
    ">>> y1 = np.ones(n1, dtype=np.int)\n",
    ">>> mean2, cov2, n2 = [2.5, 2.5], [[1,0],[0,1]], 300 # 300 samples of class -1\n",
    ">>> x2 = np.random.multivariate_normal(mean2, cov2, n2)\n",
    ">>> y2 = -np.ones(n2, dtype=np.int)\n",
    ">>> x = np.concatenate((x1, x2), axis=0) # concatenate the samples\n",
    ">>> y = np.concatenate((y1, y2))\n",
    ">>> ldac = mlpy.LDAC()\n",
    ">>> ldac.learn(x, y)\n",
    ">>> w = ldac.w()\n",
    ">>> w\n",
    "array([ 2.5948979  -2.58553746])\n",
    ">>> b = ldac.bias()\n",
    ">>> b\n",
    "5.63727441841\n",
    ">>> xx = np.arange(np.min(x[:,0]), np.max(x[:,0]), 0.01)\n",
    ">>> yy = - (w[0] * xx + b) / w[1] # separator line\n",
    ">>> fig = plt.figure(1) # plot\n",
    ">>> plot1 = plt.plot(x1[:, 0], x1[:, 1], 'ob', x2[:, 0], x2[:, 1], 'or')\n",
    ">>> plot2 = plt.plot(xx, yy, '--k')\n",
    ">>> plt.show()"
   ]
  }
 ],
 "metadata": {
  "kernelspec": {
   "display_name": "Python [conda env:aind]",
   "language": "python",
   "name": "conda-env-aind-py"
  },
  "language_info": {
   "codemirror_mode": {
    "name": "ipython",
    "version": 3
   },
   "file_extension": ".py",
   "mimetype": "text/x-python",
   "name": "python",
   "nbconvert_exporter": "python",
   "pygments_lexer": "ipython3",
   "version": "3.6.0"
  }
 },
 "nbformat": 4,
 "nbformat_minor": 2
}
