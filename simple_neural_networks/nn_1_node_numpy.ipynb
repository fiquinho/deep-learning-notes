{
 "cells": [
  {
   "cell_type": "code",
   "execution_count": 31,
   "metadata": {
    "collapsed": false,
    "deletable": true,
    "editable": true
   },
   "outputs": [],
   "source": [
    "%matplotlib inline\n",
    "\n",
    "from typing import Tuple\n",
    "\n",
    "import numpy as np\n",
    "import pandas as pd\n",
    "import matplotlib.pyplot as plt\n",
    "\n",
    "np.random.seed(0)"
   ]
  },
  {
   "cell_type": "markdown",
   "metadata": {
    "deletable": true,
    "editable": true
   },
   "source": [
    "## Load the data to use"
   ]
  },
  {
   "cell_type": "code",
   "execution_count": 32,
   "metadata": {
    "collapsed": false,
    "deletable": true,
    "editable": true
   },
   "outputs": [
    {
     "data": {
      "text/html": [
       "<div>\n",
       "<table border=\"1\" class=\"dataframe\">\n",
       "  <thead>\n",
       "    <tr style=\"text-align: right;\">\n",
       "      <th></th>\n",
       "      <th>x1</th>\n",
       "      <th>x2</th>\n",
       "      <th>x3</th>\n",
       "      <th>y</th>\n",
       "    </tr>\n",
       "  </thead>\n",
       "  <tbody>\n",
       "    <tr>\n",
       "      <th>0</th>\n",
       "      <td>0</td>\n",
       "      <td>0</td>\n",
       "      <td>0</td>\n",
       "      <td>0</td>\n",
       "    </tr>\n",
       "    <tr>\n",
       "      <th>1</th>\n",
       "      <td>0</td>\n",
       "      <td>0</td>\n",
       "      <td>1</td>\n",
       "      <td>0</td>\n",
       "    </tr>\n",
       "    <tr>\n",
       "      <th>2</th>\n",
       "      <td>0</td>\n",
       "      <td>1</td>\n",
       "      <td>0</td>\n",
       "      <td>0</td>\n",
       "    </tr>\n",
       "    <tr>\n",
       "      <th>3</th>\n",
       "      <td>0</td>\n",
       "      <td>1</td>\n",
       "      <td>1</td>\n",
       "      <td>0</td>\n",
       "    </tr>\n",
       "    <tr>\n",
       "      <th>4</th>\n",
       "      <td>1</td>\n",
       "      <td>0</td>\n",
       "      <td>0</td>\n",
       "      <td>1</td>\n",
       "    </tr>\n",
       "    <tr>\n",
       "      <th>5</th>\n",
       "      <td>1</td>\n",
       "      <td>0</td>\n",
       "      <td>1</td>\n",
       "      <td>1</td>\n",
       "    </tr>\n",
       "    <tr>\n",
       "      <th>6</th>\n",
       "      <td>1</td>\n",
       "      <td>1</td>\n",
       "      <td>0</td>\n",
       "      <td>1</td>\n",
       "    </tr>\n",
       "    <tr>\n",
       "      <th>7</th>\n",
       "      <td>1</td>\n",
       "      <td>1</td>\n",
       "      <td>1</td>\n",
       "      <td>1</td>\n",
       "    </tr>\n",
       "  </tbody>\n",
       "</table>\n",
       "</div>"
      ],
      "text/plain": [
       "   x1  x2  x3  y\n",
       "0   0   0   0  0\n",
       "1   0   0   1  0\n",
       "2   0   1   0  0\n",
       "3   0   1   1  0\n",
       "4   1   0   0  1\n",
       "5   1   0   1  1\n",
       "6   1   1   0  1\n",
       "7   1   1   1  1"
      ]
     },
     "execution_count": 32,
     "metadata": {},
     "output_type": "execute_result"
    }
   ],
   "source": [
    "data = pd.read_csv(\"data/nn_1_node.csv\")\n",
    "data"
   ]
  },
  {
   "cell_type": "code",
   "execution_count": 33,
   "metadata": {
    "collapsed": false,
    "deletable": true,
    "editable": true
   },
   "outputs": [
    {
     "data": {
      "text/plain": [
       "array([[0, 0, 0, 0, 1, 1, 1, 1],\n",
       "       [0, 0, 1, 1, 0, 0, 1, 1],\n",
       "       [0, 1, 0, 1, 0, 1, 0, 1]], dtype=int64)"
      ]
     },
     "execution_count": 33,
     "metadata": {},
     "output_type": "execute_result"
    }
   ],
   "source": [
    "data_array = np.array(data)\n",
    "X = data_array[:,:3].transpose()\n",
    "X"
   ]
  },
  {
   "cell_type": "code",
   "execution_count": 34,
   "metadata": {
    "collapsed": false,
    "deletable": true,
    "editable": true
   },
   "outputs": [
    {
     "data": {
      "text/plain": [
       "array([0, 0, 0, 0, 1, 1, 1, 1], dtype=int64)"
      ]
     },
     "execution_count": 34,
     "metadata": {},
     "output_type": "execute_result"
    }
   ],
   "source": [
    "y = data_array[:,-1]\n",
    "y"
   ]
  },
  {
   "cell_type": "markdown",
   "metadata": {
    "deletable": true,
    "editable": true
   },
   "source": [
    "## Create useful functions"
   ]
  },
  {
   "cell_type": "code",
   "execution_count": 35,
   "metadata": {
    "collapsed": true,
    "deletable": true,
    "editable": true
   },
   "outputs": [],
   "source": [
    "def sigmoid(x):\n",
    "    return 1 / (1 + np.exp(-x))"
   ]
  },
  {
   "cell_type": "code",
   "execution_count": 36,
   "metadata": {
    "collapsed": true,
    "deletable": true,
    "editable": true
   },
   "outputs": [],
   "source": [
    "def sigmoid_prime(x):\n",
    "    return sigmoid(x) * (1 - sigmoid(x))"
   ]
  },
  {
   "cell_type": "code",
   "execution_count": 37,
   "metadata": {
    "collapsed": true,
    "deletable": true,
    "editable": true
   },
   "outputs": [],
   "source": [
    "def loss_function(y, x):\n",
    "    return 0.5 * ((y - x) ** 2)"
   ]
  },
  {
   "cell_type": "code",
   "execution_count": 38,
   "metadata": {
    "collapsed": true,
    "deletable": true,
    "editable": true
   },
   "outputs": [],
   "source": [
    "def loss_prime(y, x):\n",
    "    return - (y - x)"
   ]
  },
  {
   "cell_type": "markdown",
   "metadata": {
    "deletable": true,
    "editable": true
   },
   "source": [
    "## Create Neural Network"
   ]
  },
  {
   "cell_type": "code",
   "execution_count": 42,
   "metadata": {
    "collapsed": false,
    "deletable": true,
    "editable": true
   },
   "outputs": [],
   "source": [
    "class FullyConnected():\n",
    "    def __init__(self, inputs: int, neurons: int):\n",
    "        self.inputs = inputs\n",
    "        self.neurons = neurons\n",
    "        \n",
    "        self.weights = None\n",
    "        self.bias = None\n",
    "        self.create_weights()\n",
    "        \n",
    "        self.weighted_sum = None\n",
    "        self.Z = None\n",
    "        self.A = None\n",
    "        \n",
    "        self.dA = None\n",
    "        self.dZ_dW = None\n",
    "        self.dZ_dB = None\n",
    "        \n",
    "    def create_weights(self):\n",
    "        self.weights = np.random.randn(self.neurons, self.inputs)\n",
    "        self.bias = np.zeros(self.neurons)\n",
    "        \n",
    "    def print_values(self):\n",
    "        print(\"W = {} - Shape = {}\".format(self.weights, self.weights.shape))\n",
    "        print(\"B = {} - Shape = {}\".format(self.bias, self.bias.shape))\n",
    "        \n",
    "    def forward_pass(self, inputs, print_values=False):\n",
    "        self.weighted_sum = np.dot(self.weights, inputs)\n",
    "        self.Z = self.weighted_sum + self.bias\n",
    "        self.A = sigmoid(self.Z)\n",
    "        \n",
    "        if print_values:\n",
    "            print(\"Weighted Sum = {} - Shape = {}\".format(self.weighted_sum, self.weighted_sum.shape))\n",
    "            print(\"Z = {} - Shape = {}\".format(self.Z, self.Z.shape))\n",
    "            print(\"A = {} - Shape = {}\".format(self.A, self.A.shape))\n",
    "        \n",
    "        return self.A\n",
    "    \n",
    "    def backward_pass(self, inputs, real_values, print_values=False):\n",
    "        \n",
    "        if self.A is None:\n",
    "            raise ValueError(\"Please perform a forward pass before a backward pass.\")\n",
    "        \n",
    "        self.dA = loss_prime(real_values, self.A) * sigmoid_prime(self.Z)\n",
    "        self.dZ_dW = self.dA * inputs\n",
    "        self.dZ_dB = self.dA * 1\n",
    "            \n",
    "        if print_values:\n",
    "            print(\"dA = {} - Shape = {}\".format(self.dA, self.dA.shape))\n",
    "            print(\"dZ_dW = {} - Shape = {}\".format(self.dZ_dW, self.dZ_dW.shape))\n",
    "            print(\"dZ_dB = {} - Shape = {}\".format(self.dZ_dB, self.dZ_dB.shape))\n",
    "            \n",
    "    def update_parameters(self, learning_rate=0.05, print_values=False):\n",
    "        \n",
    "        if self.dA is None or self.dZ_dW is None or self.dZ_dB is None:\n",
    "            raise ValueError(\"Please perform a backward pass before updating the weights.\")\n",
    "    \n",
    "        self.delta_W = (-1) * learning_rate * np.sum(self.dZ_dW) / len(self.dZ_dW)\n",
    "        self.delta_B = (-1) * learning_rate * np.sum(self.dZ_dB) / len(self.dZ_dB)\n",
    "        \n",
    "        if print_values:\n",
    "            print(\"delta_W = {} - Shape = {}\".format(self.delta_W, self.delta_W.shape))\n",
    "            print(\"delta_B = {} - Shape = {}\".format(self.delta_B, self.delta_B.shape))\n",
    "            \n",
    "        self.weights = self.weights + self.delta_W\n",
    "        self.bias = self.bias + self.delta_B\n",
    "        \n",
    "        if print_values:\n",
    "            print(\"W = {} - Shape = {}\".format(self.weights, self.weights.shape))\n",
    "            print(\"B = {} - Shape = {}\".format(self.bias, self.bias.shape))\n",
    "    \n",
    "    def train(self, epochs, learning_rate, inputs, real_values, plot_cost=True):\n",
    "        \n",
    "        cost = []\n",
    "        for i in range(epochs):\n",
    "            self.forward_pass(inputs=inputs)\n",
    "            self.backward_pass(inputs=inputs, real_values=real_values)\n",
    "            \n",
    "            cost.append(np.sum(loss_function(real_values, self.A)) / len(self.A[0]))\n",
    "            \n",
    "            self.update_parameters(learning_rate=learning_rate)\n",
    "            \n",
    "        if plot_cost:\n",
    "            plt.plot(range(epochs), cost)"
   ]
  },
  {
   "cell_type": "code",
   "execution_count": 65,
   "metadata": {
    "collapsed": false,
    "deletable": true,
    "editable": true
   },
   "outputs": [
    {
     "name": "stdout",
     "output_type": "stream",
     "text": [
      "W = [[1.76405235 0.40015721 0.97873798]] - Shape = (1, 3)\n",
      "B = [0.] - Shape = (1,)\n"
     ]
    }
   ],
   "source": [
    "np.random.seed(0)\n",
    "fully_connected_1 = FullyConnected(inputs=3, neurons=1)\n",
    "fully_connected_1.print_values()"
   ]
  },
  {
   "cell_type": "code",
   "execution_count": 66,
   "metadata": {
    "collapsed": false,
    "deletable": true,
    "editable": true
   },
   "outputs": [
    {
     "name": "stdout",
     "output_type": "stream",
     "text": [
      "Weighted Sum = [[0.         0.97873798 0.40015721 1.37889519 1.76405235 2.74279033\n",
      "  2.16420955 3.14294754]] - Shape = (1, 8)\n",
      "Z = [[0.         0.97873798 0.40015721 1.37889519 1.76405235 2.74279033\n",
      "  2.16420955 3.14294754]] - Shape = (1, 8)\n",
      "A = [[0.5        0.72685773 0.59872543 0.7988135  0.85371646 0.93950488\n",
      "  0.89698916 0.95862993]] - Shape = (1, 8)\n"
     ]
    }
   ],
   "source": [
    "output = fully_connected_1.forward_pass(inputs=X, print_values=True)"
   ]
  },
  {
   "cell_type": "code",
   "execution_count": 12,
   "metadata": {
    "collapsed": false,
    "deletable": true,
    "editable": true
   },
   "outputs": [
    {
     "data": {
      "text/plain": [
       "array([[0.125     , 0.26416108, 0.17923607, 0.31905151, 0.01069944,\n",
       "        0.00182983, 0.00530562, 0.00085574]])"
      ]
     },
     "execution_count": 12,
     "metadata": {},
     "output_type": "execute_result"
    }
   ],
   "source": [
    "loss = loss_function(y, output)\n",
    "loss"
   ]
  },
  {
   "cell_type": "code",
   "execution_count": 13,
   "metadata": {
    "collapsed": false,
    "deletable": true,
    "editable": true
   },
   "outputs": [
    {
     "name": "stdout",
     "output_type": "stream",
     "text": [
      "dA = [[ 0.125       0.14430711  0.14384575  0.12837771 -0.01826857 -0.00343827\n",
      "  -0.00951816 -0.00164068]] - Shape = (1, 8)\n",
      "dZ_dW = [[ 0.          0.          0.          0.         -0.01826857 -0.00343827\n",
      "  -0.00951816 -0.00164068]\n",
      " [ 0.          0.          0.14384575  0.12837771 -0.         -0.\n",
      "  -0.00951816 -0.00164068]\n",
      " [ 0.          0.14430711  0.          0.12837771 -0.         -0.00343827\n",
      "  -0.         -0.00164068]] - Shape = (3, 8)\n",
      "dZ_dB = [[ 0.125       0.14430711  0.14384575  0.12837771 -0.01826857 -0.00343827\n",
      "  -0.00951816 -0.00164068]] - Shape = (1, 8)\n"
     ]
    }
   ],
   "source": [
    "fully_connected_1.backward_pass(inputs=X, real_values=y, print_values=True)"
   ]
  },
  {
   "cell_type": "code",
   "execution_count": 14,
   "metadata": {
    "collapsed": false,
    "deletable": true,
    "editable": true
   },
   "outputs": [
    {
     "name": "stdout",
     "output_type": "stream",
     "text": [
      "delta_W = -0.001652682743544944 - Shape = ()\n",
      "delta_B = -0.005086648991831403 - Shape = ()\n",
      "W = [[1.76239966 0.39850453 0.9770853 ]] - Shape = (1, 3)\n",
      "B = [-0.00508665] - Shape = (1,)\n"
     ]
    }
   ],
   "source": [
    "fully_connected_1.update_parameters(learning_rate=0.01, print_values=True)"
   ]
  },
  {
   "cell_type": "code",
   "execution_count": 15,
   "metadata": {
    "collapsed": false,
    "deletable": true,
    "editable": true
   },
   "outputs": [
    {
     "name": "stdout",
     "output_type": "stream",
     "text": [
      "W = [[ 2.2408932   1.86755799 -0.97727788]] - Shape = (1, 3)\n",
      "B = [0.] - Shape = (1,)\n"
     ]
    },
    {
     "data": {
      "image/png": "[encoded data removed]",
      "text/plain": [
       "<matplotlib.figure.Figure at 0x2c566da5668>"
      ]
     },
     "metadata": {},
     "output_type": "display_data"
    }
   ],
   "source": [
    "fully_connected_1 = FullyConnected(inputs=3, neurons=1)\n",
    "fully_connected_1.print_values()\n",
    "fully_connected_1.train(epochs=10000, learning_rate=0.01, inputs=X, real_values=y, plot_cost=True)"
   ]
  },
  {
   "cell_type": "code",
   "execution_count": 16,
   "metadata": {
    "collapsed": false,
    "deletable": true,
    "editable": true
   },
   "outputs": [
    {
     "name": "stdout",
     "output_type": "stream",
     "text": [
      "W = [[ 3.10616174  2.73282653 -0.11200934]] - Shape = (1, 3)\n",
      "B = [-2.8455084] - Shape = (1,)\n"
     ]
    }
   ],
   "source": [
    "fully_connected_1.print_values()"
   ]
  },
  {
   "cell_type": "code",
   "execution_count": 17,
   "metadata": {
    "collapsed": false,
    "deletable": true,
    "editable": true
   },
   "outputs": [
    {
     "name": "stdout",
     "output_type": "stream",
     "text": [
      "Weighted Sum = [[ 0.         -0.11200934  2.73282653  2.6208172   3.10616174  2.9941524\n",
      "   5.83898828  5.72697894]] - Shape = (1, 8)\n",
      "Z = [[-2.8455084  -2.95751774 -0.11268187 -0.2246912   0.26065334  0.14864401\n",
      "   2.99347988  2.88147054]] - Shape = (1, 8)\n",
      "A = [[0.05491396 0.0493824  0.4718593  0.44406234 0.56479689 0.53709273\n",
      "  0.9522787  0.94692282]] - Shape = (1, 8)\n"
     ]
    },
    {
     "data": {
      "text/plain": [
       "array([[0.05491396, 0.0493824 , 0.4718593 , 0.44406234, 0.56479689,\n",
       "        0.53709273, 0.9522787 , 0.94692282]])"
      ]
     },
     "execution_count": 17,
     "metadata": {},
     "output_type": "execute_result"
    }
   ],
   "source": [
    "final_output = fully_connected_1.forward_pass(inputs=X, print_values=True)\n",
    "final_output"
   ]
  },
  {
   "cell_type": "code",
   "execution_count": null,
   "metadata": {
    "collapsed": true,
    "deletable": true,
    "editable": true
   },
   "outputs": [],
   "source": []
  },
  {
   "cell_type": "code",
   "execution_count": 78,
   "metadata": {
    "collapsed": false
   },
   "outputs": [
    {
     "name": "stdout",
     "output_type": "stream",
     "text": [
      "W = [[1.76405235 0.40015721 0.97873798]] - Shape = (1, 3)\n",
      "B = [0.] - Shape = (1,)\n",
      "W = [[1.76405235 0.40015721 0.97873798]] - Shape = (1, 3)\n",
      "B = [0.] - Shape = (1,)\n",
      "W = [[1.76405235 0.40015721 0.97873798]] - Shape = (1, 3)\n",
      "B = [0.] - Shape = (1,)\n"
     ]
    },
    {
     "data": {
      "image/png": "[encoded data removed]",
      "text/plain": [
       "<matplotlib.figure.Figure at 0x2c56a6bffd0>"
      ]
     },
     "metadata": {},
     "output_type": "display_data"
    }
   ],
   "source": [
    "np.random.seed(0)\n",
    "fully_connected_1 = FullyConnected(inputs=3, neurons=1)\n",
    "for i in range(len(fully_connected_1.weights[0])):\n",
    "\n",
    "    np.random.seed(0)\n",
    "    fully_connected_1 = FullyConnected(inputs=3, neurons=1)\n",
    "    fully_connected_1.print_values()\n",
    "\n",
    "    w_range = 50\n",
    "    w_points = 1000\n",
    "    w_min = fully_connected_1.weights[0][i] - w_range / 2\n",
    "    w_max = fully_connected_1.weights[0][i] + w_range / 2\n",
    "    w_values = []\n",
    "    loss_values = []\n",
    "    for j in range(w_points):\n",
    "        w_values.append(w_min + w_range * j / w_points)\n",
    "        fully_connected_1.weights[0][i] = w_min + w_range * j / w_points\n",
    "        output = fully_connected_1.forward_pass(inputs=X)\n",
    "        loss = loss_function(y, output)\n",
    "        loss_values.append(np.sum(loss) / len(output[0]))\n",
    "\n",
    "    w_values.append(w_max)\n",
    "    fully_connected_1.weights[0][0] = w_max\n",
    "    output = fully_connected_1.forward_pass(inputs=X)\n",
    "    loss = loss_function(y, output)\n",
    "    loss_values.append(np.sum(loss) / len(output[0]))\n",
    "    plt.plot(w_values, loss_values)\n"
   ]
  }
 ],
 "metadata": {
  "kernelspec": {
   "display_name": "Python [conda env:aind]",
   "language": "python",
   "name": "conda-env-aind-py"
  },
  "language_info": {
   "codemirror_mode": {
    "name": "ipython",
    "version": 3
   },
   "file_extension": ".py",
   "mimetype": "text/x-python",
   "name": "python",
   "nbconvert_exporter": "python",
   "pygments_lexer": "ipython3",
   "version": "3.6.0"
  }
 },
 "nbformat": 4,
 "nbformat_minor": 2
}
